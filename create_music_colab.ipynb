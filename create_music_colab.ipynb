{
  "nbformat": 4,
  "nbformat_minor": 0,
  "metadata": {
    "kernelspec": {
      "display_name": "Python 3",
      "language": "python",
      "name": "python3"
    },
    "language_info": {
      "codemirror_mode": {
        "name": "ipython",
        "version": 2
      },
      "file_extension": ".py",
      "mimetype": "text/x-python",
      "name": "python",
      "nbconvert_exporter": "python",
      "pygments_lexer": "ipython2",
      "version": "2.7.6"
    },
    "colab": {
      "name": "Copy of create_music_colab.ipynb",
      "provenance": [],
      "collapsed_sections": [],
      "include_colab_link": true
    },
    "accelerator": "GPU"
  },
  "cells": [
    {
      "cell_type": "markdown",
      "metadata": {
        "id": "view-in-github",
        "colab_type": "text"
      },
      "source": [
        "<a href=\"https://colab.research.google.com/github/cgberlin/stylegan2-ada/blob/main/create_music_colab.ipynb\" target=\"_parent\"><img src=\"https://colab.research.google.com/assets/colab-badge.svg\" alt=\"Open In Colab\"/></a>"
      ]
    },
    {
      "cell_type": "code",
      "metadata": {
        "id": "zGEosskLMMJb"
      },
      "source": [
        "\"\"\"\n",
        "All the random imports we need, can collapse and just click run\n",
        "\"\"\"\n",
        "import os\n",
        "from IPython.display import Audio"
      ],
      "execution_count": 1,
      "outputs": []
    },
    {
      "cell_type": "markdown",
      "metadata": {
        "id": "nuvy1wbQKKtp"
      },
      "source": [
        "**Clone the latest version of my forked StyleGAN2-Ada**"
      ]
    },
    {
      "cell_type": "code",
      "metadata": {
        "id": "l6O1r0pBKQoe",
        "colab": {
          "base_uri": "https://localhost:8080/"
        },
        "outputId": "fe0d62da-00c1-4ede-c1b9-27a5dfde1051"
      },
      "source": [
        "%tensorflow_version 1.x\n",
        "import tensorflow as tf\n",
        "\n",
        "# Download the code\n",
        "!git clone https://github.com/cgberlin/stylegan2-ada.git\n",
        "%cd stylegan2-ada\n",
        "\n",
        "print('Tensorflow version: {}'.format(tf.__version__) )\n",
        "!nvidia-smi -L\n",
        "print('GPU Identified at: {}'.format(tf.test.gpu_device_name()))"
      ],
      "execution_count": 4,
      "outputs": [
        {
          "output_type": "stream",
          "text": [
            "TensorFlow 1.x selected.\n",
            "fatal: destination path 'stylegan2-ada' already exists and is not an empty directory.\n",
            "/content/stylegan2-ada\n",
            "Tensorflow version: 1.15.2\n",
            "GPU 0: Tesla V100-SXM2-16GB (UUID: GPU-2ea1cd6c-af80-1565-edec-74dc0d34ff34)\n",
            "GPU Identified at: /device:GPU:0\n"
          ],
          "name": "stdout"
        }
      ]
    },
    {
      "cell_type": "markdown",
      "metadata": {
        "id": "y5MYYzvhKnG1"
      },
      "source": [
        "If the above command could not identify your GPU then click runtime -> change runtime type -> gpu"
      ]
    },
    {
      "cell_type": "markdown",
      "metadata": {
        "id": "jWVu6_12KwhL"
      },
      "source": [
        "**Mount google drive in order to pull in custom datasets or wav files. Skip if you plan to use wget instead.**"
      ]
    },
    {
      "cell_type": "code",
      "metadata": {
        "id": "O-vhlXXPKWhh",
        "colab": {
          "base_uri": "https://localhost:8080/"
        },
        "outputId": "93e44ce3-bf24-4851-a28e-0cf3dac70c01"
      },
      "source": [
        "from google.colab import drive\n",
        "drive.mount('/content/drive')"
      ],
      "execution_count": 5,
      "outputs": [
        {
          "output_type": "stream",
          "text": [
            "Drive already mounted at /content/drive; to attempt to forcibly remount, call drive.mount(\"/content/drive\", force_remount=True).\n"
          ],
          "name": "stdout"
        }
      ]
    },
    {
      "cell_type": "markdown",
      "metadata": {
        "id": "nFdembnVLZxL"
      },
      "source": [
        "**Download pretrained models to use for generation, just replace the wget links here. Alternatively could pull from gdrive**"
      ]
    },
    {
      "cell_type": "markdown",
      "metadata": {
        "id": "TNLCSF90Lo89"
      },
      "source": [
        "256x256 horse: http://d36zk2xti64re0.cloudfront.net/stylegan2/networks/stylegan2-horse-config-f.pkl\n",
        "\n",
        "512x384 car: http://d36zk2xti64re0.cloudfront.net/stylegan2/networks/stylegan2-car-config-f.pkl\n",
        "\n",
        "1024x1024 ffhq: http://d36zk2xti64re0.cloudfront.net/stylegan2/networks/stylegan2-ffhq-config-f.pkl\n",
        "\n",
        "My models:\n",
        "\n",
        "512x512 Materials: https://lucianet.s3.amazonaws.com/materials.pkl"
      ]
    },
    {
      "cell_type": "code",
      "metadata": {
        "id": "LD8lWCTOLmpc",
        "colab": {
          "base_uri": "https://localhost:8080/"
        },
        "outputId": "37a1d46f-4e27-44ac-face-99faa0c499fa"
      },
      "source": [
        "# lets create a subfolder for the models to not make a mess... also makes it easy to save and reload them from gdrive if we get annoyed\n",
        "model_dir = './models'\n",
        "model_filename = 'materials.pkl'\n",
        "if not os.path.exists(model_dir):\n",
        "    os.makedirs(model_dir)\n",
        "%cd models/\n",
        "!wget https://lucianet.s3.amazonaws.com/materials.pkl\n",
        "%cd .."
      ],
      "execution_count": 23,
      "outputs": [
        {
          "output_type": "stream",
          "text": [
            "/content/stylegan2-ada/models\n",
            "--2020-11-22 06:19:52--  https://lucianet.s3.amazonaws.com/materials.pkl\n",
            "Resolving lucianet.s3.amazonaws.com (lucianet.s3.amazonaws.com)... 52.217.42.236\n",
            "Connecting to lucianet.s3.amazonaws.com (lucianet.s3.amazonaws.com)|52.217.42.236|:443... connected.\n",
            "HTTP request sent, awaiting response... 200 OK\n",
            "Length: 363968274 (347M) [application/x-www-form-urlencoded]\n",
            "Saving to: ‘materials.pkl’\n",
            "\n",
            "materials.pkl       100%[===================>] 347.11M  34.6MB/s    in 11s     \n",
            "\n",
            "2020-11-22 06:20:03 (32.6 MB/s) - ‘materials.pkl’ saved [363968274/363968274]\n",
            "\n",
            "/content/stylegan2-ada\n"
          ],
          "name": "stdout"
        }
      ]
    },
    {
      "cell_type": "markdown",
      "metadata": {
        "id": "vwdBhqzCMj1O"
      },
      "source": [
        "**Load our music**\n",
        "\n",
        "Similar to the models, will make a subfolder for music so that reinstantiation from gdrive is simple"
      ]
    },
    {
      "cell_type": "code",
      "metadata": {
        "id": "DGewvZUnMvke"
      },
      "source": [
        "music_dir = './wavs'\n",
        "music_filename = 'losemymind.wav'\n",
        "if not os.path.exists(music_dir):\n",
        "    os.makedirs(music_dir)"
      ],
      "execution_count": 7,
      "outputs": []
    },
    {
      "cell_type": "code",
      "metadata": {
        "id": "d0cgxLOxM3W2"
      },
      "source": [
        "# example wav here from wget\n",
        "%cd wavs\n",
        "!wget -o wavs/losemymind.wav https://lucianet.s3.amazonaws.com/losemymind.wav\n",
        "%cd .."
      ],
      "execution_count": 5,
      "outputs": []
    },
    {
      "cell_type": "code",
      "metadata": {
        "id": "W7Rb15IXileQ"
      },
      "source": [
        "# example from gdrive\n",
        "!cp /content/drive/MyDrive/losemymind.wav ./wavs/losemymind.wav"
      ],
      "execution_count": 8,
      "outputs": []
    },
    {
      "cell_type": "markdown",
      "metadata": {
        "id": "oPF4bBw1OH6Z"
      },
      "source": [
        "**Extract features from our wav file**"
      ]
    },
    {
      "cell_type": "code",
      "metadata": {
        "colab": {
          "base_uri": "https://localhost:8080/",
          "height": 686
        },
        "id": "K2q5bsFrOn4k",
        "outputId": "edcf1ece-1e53-4b16-93e1-b632f3020419"
      },
      "source": [
        "# temporary installer so i can locate missing dependencies for a requirements.txt \n",
        "!pip install soundfile\n",
        "!apt install ffmpeg"
      ],
      "execution_count": 24,
      "outputs": [
        {
          "output_type": "stream",
          "text": [
            "Requirement already satisfied: soundfile in /usr/local/lib/python3.6/dist-packages (0.10.3.post1)\n",
            "Requirement already satisfied: cffi>=1.0 in /usr/local/lib/python3.6/dist-packages (from soundfile) (1.14.3)\n",
            "Requirement already satisfied: pycparser in /usr/local/lib/python3.6/dist-packages (from cffi>=1.0->soundfile) (2.20)\n",
            "Collecting librosa==0.6.3\n",
            "\u001b[?25l  Downloading https://files.pythonhosted.org/packages/e9/7e/7a0f66f79a70a0a4c163ecf30429f6c1644c88654f135a9eee0bda457626/librosa-0.6.3.tar.gz (1.6MB)\n",
            "\u001b[K     |████████████████████████████████| 1.6MB 14.4MB/s \n",
            "\u001b[?25hRequirement already satisfied: audioread>=2.0.0 in /usr/local/lib/python3.6/dist-packages (from librosa==0.6.3) (2.1.9)\n",
            "Requirement already satisfied: numpy>=1.8.0 in /usr/local/lib/python3.6/dist-packages (from librosa==0.6.3) (1.18.5)\n",
            "Requirement already satisfied: scipy>=1.0.0 in /usr/local/lib/python3.6/dist-packages (from librosa==0.6.3) (1.4.1)\n",
            "Requirement already satisfied: scikit-learn!=0.19.0,>=0.14.0 in /usr/local/lib/python3.6/dist-packages (from librosa==0.6.3) (0.22.2.post1)\n",
            "Requirement already satisfied: joblib>=0.12 in /usr/local/lib/python3.6/dist-packages (from librosa==0.6.3) (0.17.0)\n",
            "Requirement already satisfied: decorator>=3.0.0 in /usr/local/lib/python3.6/dist-packages (from librosa==0.6.3) (4.4.2)\n",
            "Requirement already satisfied: six>=1.3 in /usr/local/lib/python3.6/dist-packages (from librosa==0.6.3) (1.15.0)\n",
            "Requirement already satisfied: resampy>=0.2.0 in /usr/local/lib/python3.6/dist-packages (from librosa==0.6.3) (0.2.2)\n",
            "Requirement already satisfied: numba>=0.38.0 in /usr/local/lib/python3.6/dist-packages (from librosa==0.6.3) (0.48.0)\n",
            "Requirement already satisfied: llvmlite<0.32.0,>=0.31.0dev0 in /usr/local/lib/python3.6/dist-packages (from numba>=0.38.0->librosa==0.6.3) (0.31.0)\n",
            "Requirement already satisfied: setuptools in /usr/local/lib/python3.6/dist-packages (from numba>=0.38.0->librosa==0.6.3) (50.3.2)\n",
            "Building wheels for collected packages: librosa\n",
            "  Building wheel for librosa (setup.py) ... \u001b[?25l\u001b[?25hdone\n",
            "  Created wheel for librosa: filename=librosa-0.6.3-cp36-none-any.whl size=1573314 sha256=a05cea2c99d35bbb6bd83d0c251f20242f7da934fdec7b4b4ad08a5ddc6954e6\n",
            "  Stored in directory: /root/.cache/pip/wheels/ce/49/68/87ba660f30e3977f0778e39ee2e944629cd37c2a0ce41f9ff1\n",
            "Successfully built librosa\n",
            "Installing collected packages: librosa\n",
            "  Found existing installation: librosa 0.6.2\n",
            "    Uninstalling librosa-0.6.2:\n",
            "      Successfully uninstalled librosa-0.6.2\n",
            "Successfully installed librosa-0.6.3\n"
          ],
          "name": "stdout"
        },
        {
          "output_type": "display_data",
          "data": {
            "application/vnd.colab-display-data+json": {
              "pip_warning": {
                "packages": [
                  "librosa"
                ]
              }
            }
          },
          "metadata": {
            "tags": []
          }
        },
        {
          "output_type": "stream",
          "text": [
            "Reading package lists... Done\n",
            "Building dependency tree       \n",
            "Reading state information... Done\n",
            "ffmpeg is already the newest version (7:3.4.8-0ubuntu0.2).\n",
            "0 upgraded, 0 newly installed, 0 to remove and 14 not upgraded.\n"
          ],
          "name": "stdout"
        }
      ]
    },
    {
      "cell_type": "code",
      "metadata": {
        "id": "6YphlkCkOR8T"
      },
      "source": [
        "# import feature extractor\n",
        "from music import feature_extraction"
      ],
      "execution_count": 9,
      "outputs": []
    },
    {
      "cell_type": "code",
      "metadata": {
        "colab": {
          "base_uri": "https://localhost:8080/"
        },
        "id": "Gq2GOgITOW03",
        "outputId": "f34da33f-b5a1-47d5-c165-340d2666ca3b"
      },
      "source": [
        "feature_extraction.extract_features(f'{music_dir}/{music_filename}')"
      ],
      "execution_count": 10,
      "outputs": [
        {
          "output_type": "stream",
          "text": [
            "setting bpm 150\n",
            "=== Processing low pass filter ===\n",
            "=== Processing band pass filter ===\n",
            "=== Processing high pass filter ===\n"
          ],
          "name": "stdout"
        }
      ]
    },
    {
      "cell_type": "markdown",
      "metadata": {
        "id": "iY6JGM2qkhF-"
      },
      "source": [
        "**Generate frames from extracted features**"
      ]
    },
    {
      "cell_type": "code",
      "metadata": {
        "id": "_PH3Hx4ekmBZ"
      },
      "source": [
        "# import music generator\n",
        "from music import music_generator"
      ],
      "execution_count": 11,
      "outputs": []
    },
    {
      "cell_type": "code",
      "metadata": {
        "colab": {
          "base_uri": "https://localhost:8080/"
        },
        "id": "hov1ROV7ktMy",
        "outputId": "43e8164e-d149-498f-8632-f479bca7cbdc"
      },
      "source": [
        "# length of influence\n",
        "length_high=5\n",
        "length_mid=3\n",
        "length_low=16\n",
        "\n",
        "# features -> layers of influence\n",
        "lpf = [0, 1, 2]\n",
        "bpf = [3, 4, 5]\n",
        "hpf = [6, 7, 8, 9, 10, 11, 12, 13]\n",
        "\n",
        "# generator from music\n",
        "music_generator.generate_from_music(f'{model_dir}/{model_filename}',\n",
        "                                    './features',\n",
        "                                    length_high=length_high,\n",
        "                                    length_mid=length_mid,\n",
        "                                    length_low=length_low,\n",
        "                                    lpf=lpf,\n",
        "                                    bpf=bpf,\n",
        "                                    hpf=hpf\n",
        "                                    )"
      ],
      "execution_count": 24,
      "outputs": [
        {
          "output_type": "stream",
          "text": [
            "Setting up TensorFlow plugin \"fused_bias_act.cu\": Compiling... Loading... Done.\n",
            "Setting up TensorFlow plugin \"upfirdn_2d.cu\": Compiling... Loading... Done.\n",
            "\n",
            "Gs                            Params    OutputShape         WeightShape     \n",
            "---                           ---       ---                 ---             \n",
            "latents_in                    -         (?, 512)            -               \n",
            "labels_in                     -         (?, 0)              -               \n",
            "G_mapping/Normalize           -         (?, 512)            -               \n",
            "G_mapping/Dense0              262656    (?, 512)            (512, 512)      \n",
            "G_mapping/Dense1              262656    (?, 512)            (512, 512)      \n",
            "G_mapping/Dense2              262656    (?, 512)            (512, 512)      \n",
            "G_mapping/Dense3              262656    (?, 512)            (512, 512)      \n",
            "G_mapping/Dense4              262656    (?, 512)            (512, 512)      \n",
            "G_mapping/Dense5              262656    (?, 512)            (512, 512)      \n",
            "G_mapping/Dense6              262656    (?, 512)            (512, 512)      \n",
            "G_mapping/Dense7              262656    (?, 512)            (512, 512)      \n",
            "G_mapping/Broadcast           -         (?, 16, 512)        -               \n",
            "dlatent_avg                   -         (512,)              -               \n",
            "Truncation/Lerp               -         (?, 16, 512)        -               \n",
            "G_synthesis/4x4/Const         8192      (?, 512, 4, 4)      (1, 512, 4, 4)  \n",
            "G_synthesis/4x4/Conv          2622465   (?, 512, 4, 4)      (3, 3, 512, 512)\n",
            "G_synthesis/4x4/ToRGB         264195    (?, 3, 4, 4)        (1, 1, 512, 3)  \n",
            "G_synthesis/8x8/Conv0_up      2622465   (?, 512, 8, 8)      (3, 3, 512, 512)\n",
            "G_synthesis/8x8/Conv1         2622465   (?, 512, 8, 8)      (3, 3, 512, 512)\n",
            "G_synthesis/8x8/Upsample      -         (?, 3, 8, 8)        -               \n",
            "G_synthesis/8x8/ToRGB         264195    (?, 3, 8, 8)        (1, 1, 512, 3)  \n",
            "G_synthesis/16x16/Conv0_up    2622465   (?, 512, 16, 16)    (3, 3, 512, 512)\n",
            "G_synthesis/16x16/Conv1       2622465   (?, 512, 16, 16)    (3, 3, 512, 512)\n",
            "G_synthesis/16x16/Upsample    -         (?, 3, 16, 16)      -               \n",
            "G_synthesis/16x16/ToRGB       264195    (?, 3, 16, 16)      (1, 1, 512, 3)  \n",
            "G_synthesis/32x32/Conv0_up    2622465   (?, 512, 32, 32)    (3, 3, 512, 512)\n",
            "G_synthesis/32x32/Conv1       2622465   (?, 512, 32, 32)    (3, 3, 512, 512)\n",
            "G_synthesis/32x32/Upsample    -         (?, 3, 32, 32)      -               \n",
            "G_synthesis/32x32/ToRGB       264195    (?, 3, 32, 32)      (1, 1, 512, 3)  \n",
            "G_synthesis/64x64/Conv0_up    2622465   (?, 512, 64, 64)    (3, 3, 512, 512)\n",
            "G_synthesis/64x64/Conv1       2622465   (?, 512, 64, 64)    (3, 3, 512, 512)\n",
            "G_synthesis/64x64/Upsample    -         (?, 3, 64, 64)      -               \n",
            "G_synthesis/64x64/ToRGB       264195    (?, 3, 64, 64)      (1, 1, 512, 3)  \n",
            "G_synthesis/128x128/Conv0_up  1442561   (?, 256, 128, 128)  (3, 3, 512, 256)\n",
            "G_synthesis/128x128/Conv1     721409    (?, 256, 128, 128)  (3, 3, 256, 256)\n",
            "G_synthesis/128x128/Upsample  -         (?, 3, 128, 128)    -               \n",
            "G_synthesis/128x128/ToRGB     132099    (?, 3, 128, 128)    (1, 1, 256, 3)  \n",
            "G_synthesis/256x256/Conv0_up  426369    (?, 128, 256, 256)  (3, 3, 256, 128)\n",
            "G_synthesis/256x256/Conv1     213249    (?, 128, 256, 256)  (3, 3, 128, 128)\n",
            "G_synthesis/256x256/Upsample  -         (?, 3, 256, 256)    -               \n",
            "G_synthesis/256x256/ToRGB     66051     (?, 3, 256, 256)    (1, 1, 128, 3)  \n",
            "G_synthesis/512x512/Conv0_up  139457    (?, 64, 512, 512)   (3, 3, 128, 64) \n",
            "G_synthesis/512x512/Conv1     69761     (?, 64, 512, 512)   (3, 3, 64, 64)  \n",
            "G_synthesis/512x512/Upsample  -         (?, 3, 512, 512)    -               \n",
            "G_synthesis/512x512/ToRGB     33027     (?, 3, 512, 512)    (1, 1, 64, 3)   \n",
            "---                           ---       ---                 ---             \n",
            "Total                         30276583                                      \n",
            "\n"
          ],
          "name": "stdout"
        },
        {
          "output_type": "stream",
          "text": [
            "100%|██████████| 9771/9771 [23:49<00:00,  6.83it/s]\n"
          ],
          "name": "stderr"
        }
      ]
    },
    {
      "cell_type": "markdown",
      "metadata": {
        "id": "tQ_eD-7nnS2X"
      },
      "source": [
        "**Generate video from frames**"
      ]
    },
    {
      "cell_type": "code",
      "metadata": {
        "id": "mQmxQZ42nhhP"
      },
      "source": [
        "# import music generator\n",
        "from music import video_generator"
      ],
      "execution_count": 25,
      "outputs": []
    },
    {
      "cell_type": "code",
      "metadata": {
        "colab": {
          "base_uri": "https://localhost:8080/"
        },
        "id": "JSESJDnkr8lq",
        "outputId": "26e52729-22c6-4097-b6a5-a53bbd384b40"
      },
      "source": [
        "fps=40\n",
        "resolution=512\n",
        "out_dir='./output'\n",
        "out_file='generated.mp4'\n",
        "video_generator.create_video(fps=fps,\n",
        "                             resolution=resolution,\n",
        "                             input_path='/content/stylegan2-ada/imgs/',\n",
        "                             music_path=f'{music_dir}/{music_filename}',\n",
        "                             out_dir=out_dir,\n",
        "                             out_file=out_file)"
      ],
      "execution_count": 33,
      "outputs": [
        {
          "output_type": "stream",
          "text": [
            "100%|██████████| 9771/9771 [01:22<00:00, 117.93it/s]\n",
            "100%|██████████| 9771/9771 [00:20<00:00, 472.21it/s]\n"
          ],
          "name": "stderr"
        }
      ]
    },
    {
      "cell_type": "code",
      "metadata": {
        "colab": {
          "base_uri": "https://localhost:8080/",
          "height": 867
        },
        "id": "nCe7dHtutre0",
        "outputId": "4686df5c-54cd-4137-b814-b2f06c619766"
      },
      "source": [
        "# display video in notebook to download (much faster than downloading manually)\n",
        "!pip install -U kora\n",
        "from kora.drive import upload_public\n",
        "url = upload_public(f'generated.mp4')\n",
        "# then display it\n",
        "from IPython.display import HTML\n",
        "HTML(f\"\"\"<video src={url} width=500 height=500 controls/>\"\"\")"
      ],
      "execution_count": 46,
      "outputs": [
        {
          "output_type": "stream",
          "text": [
            "Requirement already up-to-date: kora in /usr/local/lib/python3.6/dist-packages (0.9.11)\n",
            "Requirement already satisfied, skipping upgrade: ipython in /usr/local/lib/python3.6/dist-packages (from kora) (5.5.0)\n",
            "Requirement already satisfied, skipping upgrade: fastcore in /usr/local/lib/python3.6/dist-packages (from kora) (1.3.6)\n",
            "Requirement already satisfied, skipping upgrade: prompt-toolkit<2.0.0,>=1.0.4 in /usr/local/lib/python3.6/dist-packages (from ipython->kora) (1.0.18)\n",
            "Requirement already satisfied, skipping upgrade: pickleshare in /usr/local/lib/python3.6/dist-packages (from ipython->kora) (0.7.5)\n",
            "Requirement already satisfied, skipping upgrade: simplegeneric>0.8 in /usr/local/lib/python3.6/dist-packages (from ipython->kora) (0.8.1)\n",
            "Requirement already satisfied, skipping upgrade: decorator in /usr/local/lib/python3.6/dist-packages (from ipython->kora) (4.4.2)\n",
            "Requirement already satisfied, skipping upgrade: traitlets>=4.2 in /usr/local/lib/python3.6/dist-packages (from ipython->kora) (4.3.3)\n",
            "Requirement already satisfied, skipping upgrade: pygments in /usr/local/lib/python3.6/dist-packages (from ipython->kora) (2.6.1)\n",
            "Requirement already satisfied, skipping upgrade: pexpect; sys_platform != \"win32\" in /usr/local/lib/python3.6/dist-packages (from ipython->kora) (4.8.0)\n",
            "Requirement already satisfied, skipping upgrade: setuptools>=18.5 in /usr/local/lib/python3.6/dist-packages (from ipython->kora) (50.3.2)\n",
            "Requirement already satisfied, skipping upgrade: packaging in /usr/local/lib/python3.6/dist-packages (from fastcore->kora) (20.4)\n",
            "Requirement already satisfied, skipping upgrade: pip in /usr/local/lib/python3.6/dist-packages (from fastcore->kora) (19.3.1)\n",
            "Requirement already satisfied, skipping upgrade: wcwidth in /usr/local/lib/python3.6/dist-packages (from prompt-toolkit<2.0.0,>=1.0.4->ipython->kora) (0.2.5)\n",
            "Requirement already satisfied, skipping upgrade: six>=1.9.0 in /usr/local/lib/python3.6/dist-packages (from prompt-toolkit<2.0.0,>=1.0.4->ipython->kora) (1.15.0)\n",
            "Requirement already satisfied, skipping upgrade: ipython-genutils in /usr/local/lib/python3.6/dist-packages (from traitlets>=4.2->ipython->kora) (0.2.0)\n",
            "Requirement already satisfied, skipping upgrade: ptyprocess>=0.5 in /usr/local/lib/python3.6/dist-packages (from pexpect; sys_platform != \"win32\"->ipython->kora) (0.6.0)\n",
            "Requirement already satisfied, skipping upgrade: pyparsing>=2.0.2 in /usr/local/lib/python3.6/dist-packages (from packaging->fastcore->kora) (2.4.7)\n"
          ],
          "name": "stdout"
        },
        {
          "output_type": "execute_result",
          "data": {
            "text/html": [
              "<video src=https://drive.google.com/uc?id=1pnRjgB1IRPHjO7IGuB-IGGxu4-Pfq9qo width=500 height=500 controls/>"
            ],
            "text/plain": [
              "<IPython.core.display.HTML object>"
            ]
          },
          "metadata": {
            "tags": []
          },
          "execution_count": 46
        }
      ]
    },
    {
      "cell_type": "markdown",
      "metadata": {
        "id": "r5-yOrI0w2Dr"
      },
      "source": [
        "^ video wont play, but click the 3 dots to download "
      ]
    }
  ]
}