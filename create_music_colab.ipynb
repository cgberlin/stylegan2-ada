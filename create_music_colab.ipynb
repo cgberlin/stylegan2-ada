{
  "nbformat": 4,
  "nbformat_minor": 0,
  "metadata": {
    "kernelspec": {
      "display_name": "Python 3",
      "language": "python",
      "name": "python3"
    },
    "language_info": {
      "codemirror_mode": {
        "name": "ipython",
        "version": 2
      },
      "file_extension": ".py",
      "mimetype": "text/x-python",
      "name": "python",
      "nbconvert_exporter": "python",
      "pygments_lexer": "ipython2",
      "version": "2.7.6"
    },
    "colab": {
      "name": "Copy of create_music_colab.ipynb",
      "provenance": [],
      "include_colab_link": true
    },
    "accelerator": "GPU"
  },
  "cells": [
    {
      "cell_type": "markdown",
      "metadata": {
        "id": "view-in-github",
        "colab_type": "text"
      },
      "source": [
        "<a href=\"https://colab.research.google.com/github/cgberlin/stylegan2-ada/blob/main/create_music_colab.ipynb\" target=\"_parent\"><img src=\"https://colab.research.google.com/assets/colab-badge.svg\" alt=\"Open In Colab\"/></a>"
      ]
    },
    {
      "cell_type": "code",
      "metadata": {
        "id": "zGEosskLMMJb"
      },
      "source": [
        "\"\"\"\n",
        "All the random imports we need, can collapse and just click run\n",
        "\"\"\"\n",
        "import os"
      ],
      "execution_count": null,
      "outputs": []
    },
    {
      "cell_type": "markdown",
      "metadata": {
        "id": "nuvy1wbQKKtp"
      },
      "source": [
        "**Clone the latest version of my forked StyleGAN2-Ada**"
      ]
    },
    {
      "cell_type": "code",
      "metadata": {
        "id": "l6O1r0pBKQoe",
        "colab": {
          "base_uri": "https://localhost:8080/"
        },
        "outputId": "b6b7ce3a-dcd0-4f76-cdb1-18904390c102"
      },
      "source": [
        "%tensorflow_version 1.x\n",
        "import tensorflow as tf\n",
        "\n",
        "# Download the code\n",
        "!git clone https://github.com/cgberlin/stylegan2-ada.git\n",
        "%cd stylegan2-ada\n",
        "\n",
        "print('Tensorflow version: {}'.format(tf.__version__) )\n",
        "!nvidia-smi -L\n",
        "print('GPU Identified at: {}'.format(tf.test.gpu_device_name()))"
      ],
      "execution_count": null,
      "outputs": [
        {
          "output_type": "stream",
          "text": [
            "TensorFlow 1.x selected.\n",
            "Cloning into 'stylegan2-ada'...\n",
            "remote: Enumerating objects: 8, done.\u001b[K\n",
            "remote: Counting objects: 100% (8/8), done.\u001b[K\n",
            "remote: Compressing objects: 100% (8/8), done.\u001b[K\n",
            "remote: Total 73 (delta 0), reused 7 (delta 0), pack-reused 65\u001b[K\n",
            "Unpacking objects: 100% (73/73), done.\n",
            "/content/stylegan2-ada\n",
            "\u001b[01m\u001b[Kgcc:\u001b[m\u001b[K \u001b[01;31m\u001b[Kerror: \u001b[m\u001b[Ktest_nvcc.cu: No such file or directory\n",
            "\u001b[01m\u001b[Kgcc:\u001b[m\u001b[K \u001b[01;35m\u001b[Kwarning: \u001b[m\u001b[K‘\u001b[01m\u001b[K-x c++\u001b[m\u001b[K’ after last input file has no effect\n",
            "\u001b[01m\u001b[Kgcc:\u001b[m\u001b[K \u001b[01;31m\u001b[Kfatal error: \u001b[m\u001b[Kno input files\n",
            "compilation terminated.\n",
            "Tensorflow version: 1.15.2\n",
            "GPU 0: Tesla V100-SXM2-16GB (UUID: GPU-19f3957c-fa69-419b-1106-09cd4d826045)\n",
            "GPU Identified at: /device:GPU:0\n"
          ],
          "name": "stdout"
        }
      ]
    },
    {
      "cell_type": "markdown",
      "metadata": {
        "id": "y5MYYzvhKnG1"
      },
      "source": [
        "If the above command could not identify your GPU then click runtime -> change runtime type -> gpu"
      ]
    },
    {
      "cell_type": "markdown",
      "metadata": {
        "id": "jWVu6_12KwhL"
      },
      "source": [
        "**Mount google drive in order to pull in custom datasets or wav files. Skip if you plan to use wget instead.**"
      ]
    },
    {
      "cell_type": "code",
      "metadata": {
        "id": "O-vhlXXPKWhh",
        "colab": {
          "base_uri": "https://localhost:8080/"
        },
        "outputId": "837dd0b9-be0e-4da0-893f-1bf8088221ba"
      },
      "source": [
        "from google.colab import drive\n",
        "drive.mount('/content/drive')"
      ],
      "execution_count": null,
      "outputs": [
        {
          "output_type": "stream",
          "text": [
            "Mounted at /content/drive\n"
          ],
          "name": "stdout"
        }
      ]
    },
    {
      "cell_type": "markdown",
      "metadata": {
        "id": "nFdembnVLZxL"
      },
      "source": [
        "**Download pretrained models to use for generation, just replace the wget links here. Alternatively could pull from gdrive**"
      ]
    },
    {
      "cell_type": "markdown",
      "metadata": {
        "id": "TNLCSF90Lo89"
      },
      "source": [
        "256x256 horse: http://d36zk2xti64re0.cloudfront.net/stylegan2/networks/stylegan2-horse-config-f.pkl\n",
        "\n",
        "512x384 car: http://d36zk2xti64re0.cloudfront.net/stylegan2/networks/stylegan2-car-config-f.pkl\n",
        "\n",
        "1024x1024 ffhq: http://d36zk2xti64re0.cloudfront.net/stylegan2/networks/stylegan2-ffhq-config-f.pkl\n",
        "\n",
        "My models:\n",
        "\n",
        "512x512 Materials: https://lucianet.s3.amazonaws.com/materials.pkl"
      ]
    },
    {
      "cell_type": "code",
      "metadata": {
        "id": "LD8lWCTOLmpc"
      },
      "source": [
        "# lets create a subfolder for the models to not make a mess... also makes it easy to save and reload them from gdrive if we get annoyed\n",
        "models_dir = './models'\n",
        "if not os.path.exists(models_dir):\n",
        "    os.makedirs(models_dir)\n",
        "!wget -o models/materials.pkl https://lucianet.s3.amazonaws.com/materials.pkl"
      ],
      "execution_count": null,
      "outputs": []
    },
    {
      "cell_type": "markdown",
      "metadata": {
        "id": "vwdBhqzCMj1O"
      },
      "source": [
        "**Load our music**\n",
        "\n",
        "Similar to the models, will make a subfolder for music so that reinstantiation from gdrive is simple"
      ]
    },
    {
      "cell_type": "code",
      "metadata": {
        "id": "DGewvZUnMvke"
      },
      "source": [
        "music_dir = './wavs'\n",
        "if not os.path.exists(music_dir):\n",
        "    os.makedirs(music_dir)"
      ],
      "execution_count": null,
      "outputs": []
    },
    {
      "cell_type": "code",
      "metadata": {
        "id": "d0cgxLOxM3W2"
      },
      "source": [
        "# example wav here from wget\n",
        "# p.s. good song \n",
        "!wget -o wavs/losemymind.wav https://lucianet.s3.amazonaws.com/losemymind.wav"
      ],
      "execution_count": null,
      "outputs": []
    },
    {
      "cell_type": "code",
      "metadata": {
        "id": "G054bB7NNlBG"
      },
      "source": [
        ""
      ],
      "execution_count": null,
      "outputs": []
    }
  ]
}